{
 "cells": [
  {
   "cell_type": "code",
   "execution_count": 1,
   "metadata": {
    "ExecuteTime": {
     "end_time": "2019-05-09T11:43:04.788908Z",
     "start_time": "2019-05-09T11:43:02.869599Z"
    }
   },
   "outputs": [
    {
     "name": "stderr",
     "output_type": "stream",
     "text": [
      "usage: ipykernel_launcher.py [-h] [--channel CHANNEL] [--n_feats N_FEATS]\n",
      "                             [--num_of_down_scale NUM_OF_DOWN_SCALE]\n",
      "                             [--gen_resblocks GEN_RESBLOCKS]\n",
      "                             [--discrim_blocks DISCRIM_BLOCKS]\n",
      "                             [--train_Sharp_path TRAIN_SHARP_PATH]\n",
      "                             [--train_Blur_path TRAIN_BLUR_PATH]\n",
      "                             [--test_Sharp_path TEST_SHARP_PATH]\n",
      "                             [--test_Blur_path TEST_BLUR_PATH]\n",
      "                             [--result_path RESULT_PATH] [--mode MODE]\n",
      "                             [--vgg_path VGG_PATH] [--patch_size PATCH_SIZE]\n",
      "                             [--model_path MODEL_PATH] [--in_memory IN_MEMORY]\n",
      "                             [--batch_size BATCH_SIZE] [--max_epoch MAX_EPOCH]\n",
      "                             [--learning_rate LEARNING_RATE]\n",
      "                             [--decay_step DECAY_STEP]\n",
      "                             [--test_with_train TEST_WITH_TRAIN]\n",
      "                             [--save_test_result SAVE_TEST_RESULT]\n",
      "                             [--critic_updates CRITIC_UPDATES]\n",
      "                             [--augmentation AUGMENTATION] [--load_X LOAD_X]\n",
      "                             [--load_Y LOAD_Y] [--fine_tuning FINE_TUNING]\n",
      "                             [--log_freq LOG_FREQ]\n",
      "                             [--model_save_freq MODEL_SAVE_FREQ]\n",
      "                             [--test_batch TEST_BATCH]\n",
      "                             [--pre_trained_model PRE_TRAINED_MODEL]\n",
      "                             [--chop_forward CHOP_FORWARD]\n",
      "                             [--chop_size CHOP_SIZE] [--chop_shave CHOP_SHAVE]\n",
      "ipykernel_launcher.py: error: unrecognized arguments: -f /run/user/1022/jupyter/kernel-e20dbb2c-787f-44ea-9d6c-bd26fbf121b0.json\n"
     ]
    },
    {
     "ename": "SystemExit",
     "evalue": "2",
     "output_type": "error",
     "traceback": [
      "An exception has occurred, use %tb to see the full traceback.\n",
      "\u001b[0;31mSystemExit\u001b[0m\u001b[0;31m:\u001b[0m 2\n"
     ]
    },
    {
     "name": "stderr",
     "output_type": "stream",
     "text": [
      "/home/miccai/software/anaconda3/lib/python3.6/site-packages/IPython/core/interactiveshell.py:3299: UserWarning: To exit: use 'exit', 'quit', or Ctrl-D.\n",
      "  warn(\"To exit: use 'exit', 'quit', or Ctrl-D.\", stacklevel=1)\n"
     ]
    }
   ],
   "source": [
    "import tensorflow as tf\n",
    "from Deblur_Net import Deblur_Net\n",
    "from mode import *\n",
    "import argparse\n",
    "\n",
    "case = 'Train'\n",
    "#case = 'Test'\n",
    "\n",
    "parser = argparse.ArgumentParser()\n",
    "\n",
    "\n",
    "def str2bool(v):\n",
    "    return v.lower() in ('true')\n",
    "\n",
    "## Model specification\n",
    "parser.add_argument(\"--channel\", type = int, default = 3)\n",
    "parser.add_argument(\"--n_feats\", type = int, default = 64)\n",
    "parser.add_argument(\"--num_of_down_scale\", type = int, default = 2)\n",
    "parser.add_argument(\"--gen_resblocks\", type = int, default = 9)\n",
    "parser.add_argument(\"--discrim_blocks\", type = int, default = 3)\n",
    "\n",
    "## Data specification \n",
    "if case == 'Train':\n",
    "    parser.add_argument(\"--train_Sharp_path\", type = str, default = \"./tooth/spct2_png/\")\n",
    "    parser.add_argument(\"--train_Blur_path\", type = str, default = \"./tooth/cbct_png/\")\n",
    "    parser.add_argument(\"--test_Sharp_path\", type = str, default = \"./tooth/spct2_png\")\n",
    "    parser.add_argument(\"--test_Blur_path\", type = str, default = \"./tooth/cbct_png\")\n",
    "    parser.add_argument(\"--result_path\", type = str, default = \"./result\")\n",
    "    parser.add_argument(\"--mode\", type = str, default = \"train\")\n",
    "else:\n",
    "    parser.add_argument(\"--train_Sharp_path\", type = str, default = \"./tooth/spct2_png/\")\n",
    "    parser.add_argument(\"--train_Blur_path\", type = str, default = \"./tooth_test/blur/\")\n",
    "    parser.add_argument(\"--test_Sharp_path\", type = str, default = \"./tooth/spct2_png/\")\n",
    "    parser.add_argument(\"--test_Blur_path\", type = str, default = \"./tooth_test/blur/\")\n",
    "    parser.add_argument(\"--result_path\", type = str, default = \"./tooth_test/res/\")\n",
    "    parser.add_argument(\"--mode\", type = str, default = \"test_only\")\n",
    "\n",
    "parser.add_argument(\"--vgg_path\", type = str, default = \"./vgg19/vgg19.npy\")\n",
    "parser.add_argument(\"--patch_size\", type = int, default = 256)\n",
    "parser.add_argument(\"--model_path\", type = str, default = \"./history/train_2/model/DeblurrGAN-90\")\n",
    "parser.add_argument(\"--in_memory\", type = str2bool, default = True)\n",
    "\n",
    "## Optimization\n",
    "parser.add_argument(\"--batch_size\", type = int, default = 1)\n",
    "parser.add_argument(\"--max_epoch\", type = int, default = 300)\n",
    "parser.add_argument(\"--learning_rate\", type = float, default = 1e-4)\n",
    "parser.add_argument(\"--decay_step\", type = int, default = 150)\n",
    "parser.add_argument(\"--test_with_train\", type = str2bool, default = True)\n",
    "parser.add_argument(\"--save_test_result\", type = str2bool, default = False)\n",
    "\n",
    "## Training or test specification\n",
    "parser.add_argument(\"--critic_updates\", type = int, default = 5)\n",
    "parser.add_argument(\"--augmentation\", type = str2bool, default = False)\n",
    "parser.add_argument(\"--load_X\", type = int, default = 640)\n",
    "parser.add_argument(\"--load_Y\", type = int, default = 360)\n",
    "parser.add_argument(\"--fine_tuning\", type = str2bool, default = False)\n",
    "parser.add_argument(\"--log_freq\", type = int, default = 1)\n",
    "parser.add_argument(\"--model_save_freq\", type = int, default = 50)\n",
    "parser.add_argument(\"--test_batch\", type = int, default = 1)\n",
    "parser.add_argument(\"--pre_trained_model\", type = str, default = \"./\")\n",
    "parser.add_argument(\"--chop_forward\", type = str2bool, default = False)\n",
    "parser.add_argument(\"--chop_size\", type = int, default = 8e4)\n",
    "parser.add_argument(\"--chop_shave\", type = int, default = 16)\n",
    "\n",
    "\n",
    "\n",
    "args = parser.parse_args()\n",
    "\n",
    "model = Deblur_Net(args)\n",
    "model.build_graph()\n",
    "\n",
    "print(\"Build model!\")\n",
    "\n",
    "os.environ['CUDA_VISIBLE_DEVICES'] = '2'\n",
    "\n",
    "config = tf.ConfigProto()\n",
    "config.gpu_options.allow_growth = True\n",
    "sess = tf.Session(config = config)\n",
    "sess.run(tf.global_variables_initializer())\n",
    "saver = tf.train.Saver(max_to_keep = None)\n",
    "\n",
    "if args.mode == 'train':\n",
    "    train(args, model, sess, saver)\n",
    "    \n",
    "elif args.mode == 'test':\n",
    "    f = open(\"test_results.txt\", 'w')\n",
    "    test(args, model, sess, saver, f, step = -1, loading = True)\n",
    "    f.close()\n",
    "    \n",
    "elif args.mode == 'test_only':\n",
    "    test_only(args, model, sess, saver)\n",
    "    \n",
    "\n"
   ]
  }
 ],
 "metadata": {
  "kernelspec": {
   "display_name": "Python 3",
   "language": "python",
   "name": "python3"
  },
  "language_info": {
   "codemirror_mode": {
    "name": "ipython",
    "version": 3
   },
   "file_extension": ".py",
   "mimetype": "text/x-python",
   "name": "python",
   "nbconvert_exporter": "python",
   "pygments_lexer": "ipython3",
   "version": "3.6.8"
  },
  "nbTranslate": {
   "displayLangs": [
    "*"
   ],
   "hotkey": "alt-t",
   "langInMainMenu": true,
   "sourceLang": "en",
   "targetLang": "fr",
   "useGoogleTranslate": true
  }
 },
 "nbformat": 4,
 "nbformat_minor": 2
}
